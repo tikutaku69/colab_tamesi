{
  "nbformat": 4,
  "nbformat_minor": 0,
  "metadata": {
    "colab": {
      "provenance": [],
      "include_colab_link": true
    },
    "kernelspec": {
      "name": "python3",
      "display_name": "Python 3"
    }
  },
  "cells": [
    {
      "cell_type": "markdown",
      "metadata": {
        "id": "view-in-github",
        "colab_type": "text"
      },
      "source": [
        "<a href=\"https://colab.research.google.com/github/tikutaku69/colab_tamesi/blob/main/3_7.ipynb\" target=\"_parent\"><img src=\"https://colab.research.google.com/assets/colab-badge.svg\" alt=\"Open In Colab\"/></a>"
      ]
    },
    {
      "cell_type": "markdown",
      "metadata": {
        "id": "x9Gzbn25XSlF"
      },
      "source": [
        "リスト3.24"
      ]
    },
    {
      "cell_type": "code",
      "source": [
        "import matplotlib.pyplot as plt\n",
        "from sklearn import datasets\n",
        "\n",
        "digits_data = datasets.load_digits()\n",
        "\n",
        "n_img = 10  # 表示する画像の数\n",
        "plt.figure(figsize=(10, 4))\n",
        "for i in range(n_img):\n",
        "    ax = plt.subplot(2, 5, i+1)\n",
        "    ax.imshow(digits_data.data[i].reshape(8, 8), cmap=\"Greys_r\")\n",
        "    ax.get_xaxis().set_visible(False)  # 軸を非表示に\n",
        "    ax.get_yaxis().set_visible(False)\n",
        "plt.show()\n",
        "\n",
        "print(\"データの形状:\", digits_data.data.shape)\n",
        "print(\"ラベル:\", digits_data.target[:n_img])"
      ],
      "metadata": {
        "id": "nlJpJ2PStON2",
        "colab": {
          "base_uri": "https://localhost:8080/",
          "height": 373
        },
        "outputId": "f3358ce2-72ef-4591-c2a6-9a8e30274d11"
      },
      "execution_count": 6,
      "outputs": [
        {
          "output_type": "display_data",
          "data": {
            "text/plain": [
              "<Figure size 1000x400 with 10 Axes>"
            ],
            "image/png": "[encoded data removed]"
          },
          "metadata": {}
        },
        {
          "output_type": "stream",
          "name": "stdout",
          "text": [
            "データの形状: (1797, 64)\n",
            "ラベル: [0 1 2 3 4 5 6 7 8 9]\n"
          ]
        }
      ]
    },
    {
      "cell_type": "markdown",
      "metadata": {
        "id": "w40h1X0FXmrh"
      },
      "source": [
        "リスト3.25"
      ]
    },
    {
      "cell_type": "code",
      "source": [
        "import torch\n",
        "from sklearn.model_selection import train_test_split\n",
        "\n",
        "digit_images = digits_data.data\n",
        "labels = digits_data.target\n",
        "x_train, x_test, t_train, t_test = train_test_split(digit_images, labels)  # 25%がテスト用\n",
        "\n",
        "# Tensorに変換\n",
        "x_train = torch.tensor(x_train, dtype=torch.float32)  # 入力: 訓練用\n",
        "t_train = torch.tensor(t_train, dtype=torch.int64)  # 正解: 訓練用\n",
        "x_test = torch.tensor(x_test, dtype=torch.float32)  # 入力: テスト用\n",
        "t_test = torch.tensor(t_test, dtype=torch.int64)  # 正解: テスト用"
      ],
      "metadata": {
        "id": "RpxJUwfWtRte"
      },
      "execution_count": 8,
      "outputs": []
    },
    {
      "cell_type": "markdown",
      "source": [
        "リスト3.26"
      ],
      "metadata": {
        "id": "HMOh86l-jstX"
      }
    },
    {
      "cell_type": "code",
      "source": [
        "from torch import nn\n",
        "\n",
        "net = nn.Sequential(\n",
        "    nn.Linear(64, 32),  # 全結合層\n",
        "    nn.ReLU(),          # ReLU\n",
        "    nn.Linear(32, 16),\n",
        "    nn.ReLU(),\n",
        "    nn.Linear(16, 10)\n",
        ")\n",
        "print(net)"
      ],
      "metadata": {
        "id": "vnKvxoOztV-2",
        "colab": {
          "base_uri": "https://localhost:8080/"
        },
        "outputId": "f774041e-0f95-44f3-d29d-088d1cef63af"
      },
      "execution_count": 9,
      "outputs": [
        {
          "output_type": "stream",
          "name": "stdout",
          "text": [
            "Sequential(\n",
            "  (0): Linear(in_features=64, out_features=32, bias=True)\n",
            "  (1): ReLU()\n",
            "  (2): Linear(in_features=32, out_features=16, bias=True)\n",
            "  (3): ReLU()\n",
            "  (4): Linear(in_features=16, out_features=10, bias=True)\n",
            ")\n"
          ]
        }
      ]
    },
    {
      "cell_type": "markdown",
      "metadata": {
        "id": "qsW5zCKhQE9p"
      },
      "source": [
        "リスト3.27"
      ]
    },
    {
      "cell_type": "code",
      "source": [
        "from torch import optim\n",
        "\n",
        "# ソフトマックス関数 + 交差エントロピー誤差関数\n",
        "loss_fnc = nn.CrossEntropyLoss()\n",
        "\n",
        "# SGD モデルのパラメータを渡す\n",
        "optimizer = optim.SGD(net.parameters(), lr=0.01)  # 学習率は0.01\n",
        "\n",
        "# 損失のログ\n",
        "record_loss_train = []\n",
        "record_loss_test = []\n",
        "\n",
        "# 訓練データを1000回使う\n",
        "for i in range(1000):\n",
        "\n",
        "    # パラメータの勾配を0に\n",
        "    optimizer.zero_grad()\n",
        "\n",
        "    # 順伝播\n",
        "    y_train = net(x_train)\n",
        "    y_test = net(x_test)\n",
        "\n",
        "    # 誤差を求めて記録する\n",
        "    loss_train = loss_fnc(y_train, t_train)\n",
        "    loss_test = loss_fnc(y_test, t_test)\n",
        "    record_loss_train.append(loss_train.item())\n",
        "    record_loss_test.append(loss_test.item())\n",
        "\n",
        "    # 逆伝播（勾配を計算）\n",
        "    loss_train.backward()\n",
        "\n",
        "    # パラメータの更新\n",
        "    optimizer.step()\n",
        "\n",
        "    if i%100 == 0:  # 100回ごとに経過を表示\n",
        "        print(\"Epoch:\", i, \"Loss_Train:\", loss_train.item(), \"Loss_Test:\", loss_test.item())"
      ],
      "metadata": {
        "id": "fIT5pxWptZq2",
        "colab": {
          "base_uri": "https://localhost:8080/"
        },
        "outputId": "d62d708b-8ad4-455e-a076-f0b36bfc017d"
      },
      "execution_count": 10,
      "outputs": [
        {
          "output_type": "stream",
          "name": "stdout",
          "text": [
            "Epoch: 0 Loss_Train: 2.6341540813446045 Loss_Test: 2.631272792816162\n",
            "Epoch: 100 Loss_Train: 1.1343011856079102 Loss_Test: 1.1376826763153076\n",
            "Epoch: 200 Loss_Train: 0.4456315040588379 Loss_Test: 0.43194684386253357\n",
            "Epoch: 300 Loss_Train: 0.2579001486301422 Loss_Test: 0.244893878698349\n",
            "Epoch: 400 Loss_Train: 0.18864646553993225 Loss_Test: 0.18171656131744385\n",
            "Epoch: 500 Loss_Train: 0.1517351120710373 Loss_Test: 0.1499023735523224\n",
            "Epoch: 600 Loss_Train: 0.12744678556919098 Loss_Test: 0.13093435764312744\n",
            "Epoch: 700 Loss_Train: 0.10981279611587524 Loss_Test: 0.1180259957909584\n",
            "Epoch: 800 Loss_Train: 0.09599489718675613 Loss_Test: 0.10860642045736313\n",
            "Epoch: 900 Loss_Train: 0.08483894169330597 Loss_Test: 0.1015152707695961\n"
          ]
        }
      ]
    },
    {
      "cell_type": "markdown",
      "metadata": {
        "id": "J8Gtv6BqY5b1"
      },
      "source": [
        "リスト3.28"
      ]
    },
    {
      "cell_type": "code",
      "source": [
        "plt.plot(range(len(record_loss_train)), record_loss_train, label=\"Train\")\n",
        "plt.plot(range(len(record_loss_test)), record_loss_test, label=\"Test\")\n",
        "plt.legend()\n",
        "\n",
        "plt.xlabel(\"Epochs\")\n",
        "plt.ylabel(\"Error\")\n",
        "plt.show()"
      ],
      "metadata": {
        "id": "ZD00UCWItckC",
        "colab": {
          "base_uri": "https://localhost:8080/",
          "height": 449
        },
        "outputId": "b91d9a95-9346-4a25-d155-2fe2ba2cdcdb"
      },
      "execution_count": 11,
      "outputs": [
        {
          "output_type": "display_data",
          "data": {
            "text/plain": [
              "<Figure size 640x480 with 1 Axes>"
            ],
            "image/png": "[encoded data removed]"
          },
          "metadata": {}
        }
      ]
    },
    {
      "cell_type": "markdown",
      "metadata": {
        "id": "mP7z3rl3Y6A8"
      },
      "source": [
        "リスト3.29"
      ]
    },
    {
      "cell_type": "code",
      "source": [
        "y_test = net(x_test)\n",
        "count = (y_test.argmax(1) == t_test).sum().item()\n",
        "print(\"正解率:\", str(count/len(y_test)*100) + \"%\")"
      ],
      "metadata": {
        "id": "nu35DjzqtiJp",
        "colab": {
          "base_uri": "https://localhost:8080/"
        },
        "outputId": "84fe18fb-2466-4eae-fb75-265e4683c97f"
      },
      "execution_count": 12,
      "outputs": [
        {
          "output_type": "stream",
          "name": "stdout",
          "text": [
            "正解率: 98.22222222222223%\n"
          ]
        }
      ]
    },
    {
      "cell_type": "markdown",
      "metadata": {
        "id": "LrRAJzwD4zpN"
      },
      "source": [
        "リスト3.30"
      ]
    },
    {
      "cell_type": "code",
      "source": [
        "# 入力画像\n",
        "img_id = 7\n",
        "x_pred = digit_images[img_id]\n",
        "image = x_pred.reshape(8, 8)\n",
        "plt.imshow(image, cmap=\"Greys_r\")\n",
        "plt.show()\n",
        "\n",
        "x_pred = torch.tensor(x_pred, dtype=torch.float32)\n",
        "y_pred = net(x_pred)\n",
        "print(\"正解:\", labels[img_id], \"予測結果:\", y_pred.argmax().item())"
      ],
      "metadata": {
        "id": "h2DyS0sPtlF3",
        "colab": {
          "base_uri": "https://localhost:8080/",
          "height": 447
        },
        "outputId": "d9a72a31-398c-4e40-ecc2-cbd24602f2f6"
      },
      "execution_count": 15,
      "outputs": [
        {
          "output_type": "display_data",
          "data": {
            "text/plain": [
              "<Figure size 640x480 with 1 Axes>"
            ],
            "image/png": "[encoded data removed]"
          },
          "metadata": {}
        },
        {
          "output_type": "stream",
          "name": "stdout",
          "text": [
            "正解: 7 予測結果: 7\n"
          ]
        }
      ]
    }
  ]
}